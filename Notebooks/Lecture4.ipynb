{
 "cells": [
  {
   "cell_type": "markdown",
   "metadata": {},
   "source": [
    "# Lecture 4: Numerics for Conservation Law"
   ]
  },
  {
   "cell_type": "markdown",
   "metadata": {},
   "source": [
    "$$\n",
    "\\begin{aligned}\n",
    "&u_t + f (u)_x = 0, \\quad[\\text{differential form}]\\\\\n",
    "&u(x,0)=u^0(x).\n",
    "\\end{aligned}\n",
    "$$"
   ]
  },
  {
   "cell_type": "markdown",
   "metadata": {},
   "source": [
    "The concept of weak solution can be introduced by considering the integral form:\n",
    "$$\n",
    "\\frac{d}{dt}\n",
    "\\int^b_a  u(x, t) dx=f(u(a, t))-f(u(b,t)) \\quad[\\text{intergral form}]\n",
    "$$\n",
    "\n",
    "For $C^1$ solutions, the solution defined by strong form and weak form are equivalent. Attempts at defining weak solutions:\n",
    "\n",
    "- If u satisfies [intergral form] for almost all $(a,b)$ then in $u$ is called a weak solution to the differential form. (physically meaningful,correct)\n",
    "- If for any $\\phi\\in C^1_0(\\mathbb{R}^2)$,\n",
    "$$ - \\int_0^\\infty\\int_0^\\infty (u\\phi_t+f(u)\\phi_x) dxdt- \\int_{-\\infty}^\\infty u^0(x)\\phi(x,0)dx=0,$$\n",
    "&emsp;&emsp;then $u$ is called a weak solution to [differential form]. (more meaningful mathematically motivated by multiplication by test function and integration by parts.)"
   ]
  },
  {
   "cell_type": "markdown",
   "metadata": {},
   "source": [
    "# The importance of conservation form\n",
    "\n",
    "For a nonlinear problem like Burgers' equation, it is important to use a finite volume method that is in conservation form, or it is possible to converge to a function containing a shock wave that is not a solution of intended conservation law.\n",
    "\n",
    "This illustrates Figure 12.5 in [FVMHP](http://depts.washington.edu/clawpack/book.html)."
   ]
  },
  {
   "cell_type": "code",
   "execution_count": 1,
   "metadata": {},
   "outputs": [
    {
     "name": "stdout",
     "output_type": "stream",
     "text": [
      "%pylab is deprecated, use %matplotlib inline and import the required libraries.\n",
      "Populating the interactive namespace from numpy and matplotlib\n"
     ]
    }
   ],
   "source": [
    "%pylab inline"
   ]
  },
  {
   "cell_type": "code",
   "execution_count": 2,
   "metadata": {
    "collapsed": false
   },
   "outputs": [],
   "source": [
    "from __future__ import print_function"
   ]
  },
  {
   "cell_type": "code",
   "execution_count": 3,
   "metadata": {
    "collapsed": false
   },
   "outputs": [],
   "source": [
    "import animation_tools  # local version, rather than from Clawpack"
   ]
  },
  {
   "cell_type": "code",
   "execution_count": 4,
   "metadata": {
    "collapsed": false
   },
   "outputs": [],
   "source": [
    "animation_style = 'ipywidgets'\n",
    "#animation_style = 'JSAnimation'"
   ]
  },
  {
   "cell_type": "markdown",
   "metadata": {},
   "source": [
    "## Desired true solution\n",
    "\n",
    "Define the true solution as a function of $(x,t)$. For this example we have a Riemann problem with a shock wave solution.\n",
    "\n",
    "Evaluating this function at $t=0$ will give the initial conditions below."
   ]
  },
  {
   "cell_type": "code",
   "execution_count": 5,
   "metadata": {
    "collapsed": false
   },
   "outputs": [],
   "source": [
    "f = lambda q: 0.5*q**2\n",
    "\n",
    "q_left = 3.\n",
    "q_right = 1.\n",
    "s = 0.5*(q_left + q_right)\n",
    "\n",
    "xlower = -1.\n",
    "xupper = 3.\n",
    "\n",
    "def qtrue(x,t):\n",
    "    # Riemann problem, assuming shock wave solution:\n",
    "    x0 = x - s*t   # trace back characteristic to time 0\n",
    "    q = where(x0<0, q_left, q_right) \n",
    "    return q"
   ]
  },
  {
   "cell_type": "markdown",
   "metadata": {},
   "source": [
    "### Define upwind method with both conservative and non-conservative variants\n",
    "\n",
    "Consider Burgers' Equation $q_t + \\left(\\frac 1 2 q^2\\right)_x = 0$.\n",
    "\n",
    "We assume $Q_i^n > 0$ everywhere so the upwind direction is to the left.\n",
    "\n",
    "If `conservative = True` in the call to `upwind`, the conservative upwind method is used, differencing the flux function $f(q) = \\frac 1 2 q^2$:\n",
    "$$\n",
    "Q_i^{n+1} = Q_i^n - \\frac{\\Delta t}{\\Delta x} \\left( \\frac 1 2 (Q_i^n)^2 - \\frac 1 2 (Q_{i-1}^n)^2 \\right)\n",
    "$$\n",
    "\n",
    "If `conservative = False` in the call to `upwind`, the non-conservative upwind method is used, based on the quasi-linear form of Burgers' equation $q_t + qq_x = 0$:\n",
    "\n",
    "$$\n",
    "Q_i^{n+1} = Q_i^n - \\frac{\\Delta t}{\\Delta x} Q_i^n \\left( Q_i^n - Q_{i-1}^n \\right)\n",
    "$$\n",
    "\n",
    "This function also make a plot every `nplot` time steps and accumulate these in `figs`, which is returned from the function call.\n"
   ]
  },
  {
   "cell_type": "code",
   "execution_count": 6,
   "metadata": {
    "collapsed": false
   },
   "outputs": [],
   "source": [
    "def upwind(x,tfinal,nsteps,dt,qtrue,nplot,conservative):\n",
    "    \n",
    "    dx = x[1] - x[0]  # assumes uniform grid\n",
    "    \n",
    "    # set initial data:\n",
    "    q0 = qtrue(x,0.)\n",
    "\n",
    "    # plot initial data:\n",
    "    fig = figure()\n",
    "    xfine = linspace(xlower,xupper,5000)   # fine grid for plotting true solution\n",
    "    plot(xfine, qtrue(xfine,0.),'r-')\n",
    "    title('Initial data')\n",
    "    plot(x,q0,'bo')\n",
    "    ylim(0,4)\n",
    "\n",
    "    # Start accumulating figures\n",
    "    # Will add more figures during time stepping\n",
    "    figs = [fig]  \n",
    "    close(fig)  # so it won't appear yet\n",
    "\n",
    "\n",
    "    # extend to include 2 ghost cells on each side:\n",
    "    qn_ext = hstack([0., 0., q0, 0., 0.])\n",
    "    i1 = 2  # index of first interior cell\n",
    "    imx = mx+1  # index of last interior cell\n",
    "\n",
    "    for n in range(1, nsteps+1):\n",
    "\n",
    "        # fill ghost cells for inflow BCs:\n",
    "        qn_ext[i1-2] = q_left\n",
    "        qn_ext[i1-1] = q_left\n",
    "        #qn_ext[imx+1] = Not needed\n",
    "        #qn_ext[imx+2] = \n",
    "\n",
    "        qnp_ext = qn_ext.copy()  # make a copy, not a new pointer to old array\n",
    "\n",
    "        \n",
    "        if conservative:\n",
    "            for i in range(i1,imx+1):\n",
    "                qnp_ext[i] = qn_ext[i] - dt/dx * (f(qn_ext[i])-f(qn_ext[i-1]))\n",
    "                \n",
    "        else:\n",
    "            for i in range(i1,imx+1):\n",
    "                qnp_ext[i] = qn_ext[i] - dt/dx * qn_ext[i]*(qn_ext[i]-qn_ext[i-1])\n",
    "\n",
    "                \n",
    "        qn_ext = qnp_ext\n",
    "\n",
    "        if mod(n,nplot) == 0:\n",
    "            fig = figure()\n",
    "            qn = qn_ext[i1:imx+1]\n",
    "            plot(x,qn,'bo-')\n",
    "            ylim(0,4)\n",
    "            tn = n*dt\n",
    "            plot(xfine, qtrue(xfine,tn),'r-')\n",
    "            title('Time t = %g' % tfinal)\n",
    "            figs.append(fig)\n",
    "            close(fig)\n",
    "\n",
    "    print(\"Took %i time steps and produced %i figures\" % (nsteps,len(figs)))\n",
    "    return figs"
   ]
  },
  {
   "cell_type": "code",
   "execution_count": 7,
   "metadata": {
    "collapsed": false
   },
   "outputs": [
    {
     "name": "stdout",
     "output_type": "stream",
     "text": [
      "dx = 0.0400, dt = 0.0100, Courant number is cfl =  0.75\n"
     ]
    }
   ],
   "source": [
    "mx = 100\n",
    "dx = float(xupper-xlower)/mx\n",
    "\n",
    "# finite volume cell centers:\n",
    "x = linspace(xlower+0.5*dx, xupper-0.5*dx, mx)\n",
    "\n",
    "tfinal = 1.0\n",
    "nsteps = 100\n",
    "dt = float(tfinal)/nsteps\n",
    "cfl = max(q_left, q_right)*dt/dx\n",
    "print(\"dx = %6.4f, dt = %6.4f, Courant number is cfl = %5.2f\" % (dx,dt,cfl))"
   ]
  },
  {
   "cell_type": "markdown",
   "metadata": {},
   "source": [
    "## Test the conservative upwind method:"
   ]
  },
  {
   "cell_type": "code",
   "execution_count": 8,
   "metadata": {
    "collapsed": false
   },
   "outputs": [
    {
     "name": "stdout",
     "output_type": "stream",
     "text": [
      "Took 100 time steps and produced 21 figures\n"
     ]
    },
    {
     "data": {
      "application/vnd.jupyter.widget-view+json": {
       "model_id": "c5f0172417fd41159061e421d3059516",
       "version_major": 2,
       "version_minor": 0
      },
      "text/plain": [
       "interactive(children=(IntSlider(value=0, description='frameno', max=20), Output()), _dom_classes=('widget-inte…"
      ]
     },
     "metadata": {},
     "output_type": "display_data"
    },
    {
     "data": {
      "text/plain": [
       "None"
      ]
     },
     "metadata": {},
     "output_type": "display_data"
    }
   ],
   "source": [
    "figs = upwind(x,tfinal,nsteps,dt,qtrue,nplot=5,conservative=True)\n",
    "\n",
    "anim = animation_tools.animate_figs(figs, style=animation_style, figsize=(10,5))\n",
    "display(anim)"
   ]
  },
  {
   "cell_type": "code",
   "execution_count": 9,
   "metadata": {
    "collapsed": false
   },
   "outputs": [
    {
     "name": "stdout",
     "output_type": "stream",
     "text": [
      "Took 100 time steps and produced 21 figures\n"
     ]
    },
    {
     "data": {
      "application/vnd.jupyter.widget-view+json": {
       "model_id": "1cd941eb55b54133a2b461bc69ce165f",
       "version_major": 2,
       "version_minor": 0
      },
      "text/plain": [
       "interactive(children=(IntSlider(value=0, description='frameno', max=20), Output()), _dom_classes=('widget-inte…"
      ]
     },
     "metadata": {},
     "output_type": "display_data"
    },
    {
     "data": {
      "text/plain": [
       "None"
      ]
     },
     "metadata": {},
     "output_type": "display_data"
    }
   ],
   "source": [
    "figs = upwind(x,tfinal,nsteps,dt,qtrue,nplot=5,conservative=False)\n",
    "\n",
    "anim = animation_tools.animate_figs(figs, style=animation_style, figsize=(10,5))\n",
    "display(anim)"
   ]
  },
  {
   "cell_type": "markdown",
   "metadata": {},
   "source": [
    "**Definition** A scheme to solve conservation laws is called conservative if it can be written as\n",
    "$$ u^{n+1}_j = u^n_j - \\frac{\\Delta t}{\\Delta x} [\\hat{f}_{j+1/2}-\\hat{f}_{j-1/2}],$$\n",
    "where $\\hat{f}$ is \n",
    "1. Lipschitz continous\n",
    "2. $\\hat{f}(u, \\cdots, u) = f(u)$ (consistency)"
   ]
  },
  {
   "cell_type": "markdown",
   "metadata": {},
   "source": [
    "**Theorem** (**Lax-Wendroff**) If the solution $\\{u^n_j\\}$ to a conservative scheme converges (as $\\Delta t$, $\\Delta x\\to 0$) boundedly a.e. to a function $u(x, t)$, then $u$ is a weak solution of the conservation law.\n",
    "\n",
    "- Peter Lax, New York University, he thrived in the Courant Institute of Mathematical Sciences New York University where applied mathematics was studied alongside relevant pure mathematics in an exciting mix of ideas which led to great progress. \n",
    "- Burton Wendroff, Los Alamos National Laboratory, primary author of the Chess program Lachex, which competed at various ACM Tournaments and World Computer Chess Championships [2] in the 80s and early 90s.\n",
    "\n",
    "\n"
   ]
  },
  {
   "cell_type": "markdown",
   "metadata": {},
   "source": [
    "**Proof** Let $\\phi^n_j = \\phi(x_j, t^n)$ for $\\phi\\in C^1_0$. Then, \n",
    "$$\n",
    "\\begin{aligned}\n",
    " 0 = & \\sum_n\\sum_j \\Big(\\frac{u^{n+1}_j - u^n_j}{\\Delta t} + \\frac{\\hat{f}_{j+1/2}-\\hat{f}_{j-1/2}}{\\Delta x}\\Big)\\phi^n_j \\Delta x \\Delta t \\\\\n",
    "   = & -\\sum_n\\sum_j \\Big(\\frac{\\phi^{n}_j - \\phi^{n-1}_j}{\\Delta t}u^n_j + \\frac{{\\phi}^n_j-\\phi_{j-1}^n}{\\Delta x} \\hat{f}_{j+1/2}\\Big) \\Delta x \\Delta t \\\\\n",
    "   \\xrightarrow{DCT, conservativity} \\int_0^\\infty \\int^\\infty_{-\\infty} dxdt = 0\n",
    "\\end{aligned}\n",
    "$$\n",
    "\n",
    "We used partial summation\n",
    "$$\n",
    "\\sum_{j=j_1}^{j_2} a_j(b_j-b_{j-1}) = - \\sum_{j=j_1}^{j_2}(a_{j+1}-a_j)b_j - a_{j_1}b_{j_1-1} + a_{j_2}b_{j_2}.\n",
    "$$"
   ]
  },
  {
   "cell_type": "markdown",
   "metadata": {},
   "source": [
    "# Examples of Conservative Schemes\n",
    "\n"
   ]
  }
 ],
 "metadata": {
  "interpreter": {
   "hash": "546be31fe39a8b6a4af888d36157e22261ed930fb1509c6928bdf0e8494cc69a"
  },
  "kernelspec": {
   "display_name": "Python 3.9.7 ('scicomp')",
   "language": "python",
   "name": "python3"
  },
  "language_info": {
   "codemirror_mode": {
    "name": "ipython",
    "version": 3
   },
   "file_extension": ".py",
   "mimetype": "text/x-python",
   "name": "python",
   "nbconvert_exporter": "python",
   "pygments_lexer": "ipython3",
   "version": "3.9.7"
  },
  "orig_nbformat": 4
 },
 "nbformat": 4,
 "nbformat_minor": 2
}
